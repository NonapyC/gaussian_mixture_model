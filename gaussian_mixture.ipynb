{
 "cells": [
  {
   "cell_type": "markdown",
   "metadata": {},
   "source": [
    "## 混合ガウスモデル\n",
    "混合ガウスモデルの実装を行う。"
   ]
  },
  {
   "cell_type": "markdown",
   "metadata": {},
   "source": [
    "### 1. 準備"
   ]
  },
  {
   "cell_type": "markdown",
   "metadata": {},
   "source": [
    "#### 1.1.必要なライブラリのインストール"
   ]
  },
  {
   "cell_type": "code",
   "execution_count": 76,
   "metadata": {},
   "outputs": [],
   "source": [
    "import numpy as np\n",
    "import matplotlib.pyplot as plt\n",
    "from scipy.stats import multivariate_normal, wishart, dirichlet\n",
    "import scipy.stats as stats\n",
    "plt.style.use('ggplot') \n",
    "%matplotlib inline"
   ]
  },
  {
   "cell_type": "markdown",
   "metadata": {},
   "source": [
    "##### 1.2.観測データの用意\n",
    "クラス数を3として、3つのガウス分布に従うデータを用意する。このデータをもとに真の分布の推定を行う。まず3つのガウス分布の平均と分散を与える。"
   ]
  },
  {
   "cell_type": "code",
   "execution_count": 77,
   "metadata": {},
   "outputs": [],
   "source": [
    "Dim_Observable = 2\n",
    "K_Observable = 3\n",
    "N = 250\n",
    "mean = np.array( [ [0.0, 4.0], [-5.0, -5.0], [5.0,-2.5] ])\n",
    "cov = np.array( [ [ [8.0, 0.0], [0.0, 8.0] ],  [ [4.0, -2.5], [-2.5, 4.0] ], [ [6.5, 4.0], [4.0, 6.5] ] ] )"
   ]
  },
  {
   "cell_type": "markdown",
   "metadata": {},
   "source": [
    "データが下記の割合でそれぞれのクラスに分類されているデータを想定する。"
   ]
  },
  {
   "cell_type": "code",
   "execution_count": 78,
   "metadata": {},
   "outputs": [],
   "source": [
    "pi_Observable = np.array([0.5, 0.2, 0.3])"
   ]
  },
  {
   "cell_type": "code",
   "execution_count": 79,
   "metadata": {},
   "outputs": [
    {
     "name": "stdout",
     "output_type": "stream",
     "text": [
      "[[0 1 0]\n",
      " [0 0 1]\n",
      " [1 0 0]\n",
      " [0 1 0]\n",
      " [1 0 0]]\n"
     ]
    }
   ],
   "source": [
    "data_k = np.random.multinomial(n=1, pvals=pi_Observable, size=N)\n",
    "print(data_k[0:5])"
   ]
  },
  {
   "cell_type": "code",
   "execution_count": 80,
   "metadata": {},
   "outputs": [],
   "source": [
    "_, data_y = np.where(data_k == 1)\n",
    "data_x = np.array( [ np.random.multivariate_normal ( mean = mean[k], cov=cov[k], size=1).flatten() for k in data_y ] )"
   ]
  },
  {
   "cell_type": "code",
   "execution_count": 81,
   "metadata": {},
   "outputs": [
    {
     "name": "stdout",
     "output_type": "stream",
     "text": [
      "[[-5.10308538 -5.57163808]\n",
      " [ 6.46512447 -0.67638129]\n",
      " [ 0.20570283  9.33883904]\n",
      " [-3.75737689 -4.73303961]\n",
      " [-1.18907137  1.88891898]]\n"
     ]
    }
   ],
   "source": [
    "print(data_x[0:5])"
   ]
  },
  {
   "cell_type": "markdown",
   "metadata": {},
   "source": [
    "生成されたデータをプロットしてみる。このデータをもとに、真の分布の推定を行う。"
   ]
  },
  {
   "cell_type": "code",
   "execution_count": 82,
   "metadata": {},
   "outputs": [
    {
     "data": {
      "image/png": "[encoded data removed]",
      "text/plain": [
       "<Figure size 432x288 with 1 Axes>"
      ]
     },
     "metadata": {
      "needs_background": "light"
     },
     "output_type": "display_data"
    }
   ],
   "source": [
    "for k in range(K_Observable):\n",
    "    k_id = np.where(data_y == k)\n",
    "    plt.scatter( data_x[k_id,0], data_x[k_id,1] )"
   ]
  },
  {
   "cell_type": "markdown",
   "metadata": {},
   "source": [
    "## 2. ガウス混合モデルによる推論"
   ]
  },
  {
   "cell_type": "markdown",
   "metadata": {},
   "source": [
    "### 2.1. ガウス混合モデル\n",
    "パラメータが、$\\vec\\theta_k = \\{ \\vec{\\mu}_k, \\Lambda_k \\} $で与えられてる時、$n$番目のデータ$\\vec{x}_n$の条件付き確率分布は、\n",
    "$$\n",
    "p( \\vec{x}_n | \\vec{s}_n, \\vec{\\mu}_k, \\Lambda_k ) = \\prod^K_{k=1} \\mathcal{N}(\\vec{x}_n| \\vec{\\mu}_k, \\Lambda_k)^{s_{n,k}}\n",
    "$$\n",
    "で与えられる。ベイズ推定アプローチを用いる為に使用する、パラメータの事前分布は、尤度関数の事前共役分布であるガウス・ウィシャート分布：\n",
    "$$\n",
    "p(\\vec{\\mu}_k,\\Lambda_k) = \\mathcal{N}(\\vec{\\mu}_k|\\vec{m}, (\\beta\\Lambda_k)^{-1})\\mathcal{W}(\\Lambda_k|\\nu,\\vec{W})\n",
    "$$\n",
    "を用いる。"
   ]
  },
  {
   "cell_type": "markdown",
   "metadata": {},
   "source": [
    "#### パラメーターの初期化"
   ]
  },
  {
   "cell_type": "code",
   "execution_count": 83,
   "metadata": {},
   "outputs": [],
   "source": [
    "def initialize_parameter( DimofData, NumOfClass ):\n",
    "    mean = np.random.rand( NumOfClass, DimofData  )\n",
    "    Lambd = np.array( [ np.identity( DimofData )*0.01 for k in range(NumOfClass) ] )\n",
    "    pi = np.random.rand( NumOfClass )\n",
    "    pi /= np.sum( pi )\n",
    "    pi = pi.reshape( pi.shape[0], 1 )\n",
    "    \n",
    "    parameters = {\"mean\": mean,\n",
    "                           \"Lambd\": Lambd,\n",
    "                           \"pi\": pi }\n",
    "    return parameters"
   ]
  },
  {
   "cell_type": "code",
   "execution_count": 84,
   "metadata": {},
   "outputs": [
    {
     "data": {
      "text/plain": [
       "{'mean': array([[0.57066924, 0.60157175],\n",
       "        [0.85509021, 0.58409985],\n",
       "        [0.49560053, 0.61685679]]), 'Lambd': array([[[0.01, 0.  ],\n",
       "         [0.  , 0.01]],\n",
       " \n",
       "        [[0.01, 0.  ],\n",
       "         [0.  , 0.01]],\n",
       " \n",
       "        [[0.01, 0.  ],\n",
       "         [0.  , 0.01]]]), 'pi': array([[0.42342589],\n",
       "        [0.51415078],\n",
       "        [0.06242333]])}"
      ]
     },
     "execution_count": 84,
     "metadata": {},
     "output_type": "execute_result"
    }
   ],
   "source": [
    "parameters = initialize_parameter(2 ,3)\n",
    "parameters"
   ]
  },
  {
   "cell_type": "markdown",
   "metadata": {},
   "source": [
    "#### 潜在変数のサンプルリング\n",
    "MCMCの一種であるギブスサンプリングによって潜在変数をサンプリングする。"
   ]
  },
  {
   "cell_type": "code",
   "execution_count": 85,
   "metadata": {},
   "outputs": [],
   "source": [
    "def sampling_of_s( data_x,  parameters ):\n",
    "    \n",
    "    NumOfClass = parameters[\"mean\"].shape[0]\n",
    "    NumOfData = data_x.shape[0]\n",
    "    mean = parameters[\"mean\"]\n",
    "    Lambd = parameters[\"Lambd\"]\n",
    "    pi = parameters[\"pi\"]\n",
    "    \n",
    "    eta = np.zeros( ( NumOfData , NumOfClass ) ) \n",
    "    \n",
    "    for k in range( NumOfClass ):\n",
    "        ref_k = 0.0\n",
    "        ref_k = - 0.5 * np.diag( ( data_x - mean[k,:] ).dot( Lambd[k,:,:]).dot( ( data_x - mean[k,:] ).T ) ).copy()\n",
    "        ref_k += 0.5 * np.log( np.linalg.det( Lambd[k,:,:] ) + 1e-7 ) + np.log( pi[k] ) \n",
    "        eta[:, k] =  np.exp( ref_k )\n",
    "    eta /= np.sum(eta, axis=1, keepdims=True)\n",
    "    \n",
    "    s = np.zeros( ( NumOfData , NumOfClass ) )\n",
    "    for n in range( NumOfData ):\n",
    "        s[n] = np.random.multinomial(n=1, pvals=eta[n,:], size=1).flatten()\n",
    "\n",
    "    return s"
   ]
  },
  {
   "cell_type": "code",
   "execution_count": 86,
   "metadata": {},
   "outputs": [
    {
     "data": {
      "text/plain": [
       "array([[1., 0., 0.],\n",
       "       [1., 0., 0.],\n",
       "       [1., 0., 0.],\n",
       "       [1., 0., 0.],\n",
       "       [1., 0., 0.]])"
      ]
     },
     "execution_count": 86,
     "metadata": {},
     "output_type": "execute_result"
    }
   ],
   "source": [
    "sampling_of_s( data_x, parameters )[0:5]"
   ]
  },
  {
   "cell_type": "markdown",
   "metadata": {},
   "source": [
    "#### 事後分布のパラメータ$\\mu$および$\\Lambda$の生成"
   ]
  },
  {
   "cell_type": "code",
   "execution_count": 87,
   "metadata": {},
   "outputs": [],
   "source": [
    "def create_parameter(data_x, s, beta=1.0, v=3.0, alpha = 1 ):\n",
    "    \n",
    "    NumOfClass = s.shape[1]\n",
    "    Dim = data_x.shape[1]\n",
    "    w = np.identity(Dim)*10\n",
    "    beta_hat = np.zeros(NumOfClass)\n",
    "    m = np.zeros( ( 1, Dim ) )\n",
    "    m_hat = np.zeros( ( NumOfClass, Dim ) )\n",
    "    W_hat = np.zeros( ( NumOfClass, Dim, Dim ) )\n",
    "    v_hat = np.zeros(NumOfClass)\n",
    "    alpha_hat = np.zeros( NumOfClass )\n",
    "    \n",
    "    beta_hat = np.sum(s, axis=0 ) + beta\n",
    "    m_hat = ( np.dot( s.T , data_x ) + beta * m ) / beta_hat.reshape( NumOfClass, 1 )\n",
    "    for k in range(NumOfClass):\n",
    "        W_hat_inv = np.dot( ( s[ : , k ] * data_x.T ) , data_x )\n",
    "        W_hat_inv += beta * m * m.T\n",
    "        W_hat_inv -= beta_hat[k] * m_hat[k,:].reshape(Dim,1) * m_hat[k,:].reshape(1,Dim)\n",
    "        W_hat_inv += np.linalg.inv(w) \n",
    "        W_hat[ k , : , : ] = np.linalg.inv(W_hat_inv)\n",
    "    v_hat = np.sum(s, axis=0 ) + v\n",
    "    alpha_hat = np.sum(s, axis=0 ) + alpha\n",
    "    \n",
    "    c_parameters = {\"beta_hat\":beta_hat,\n",
    "                           \"m_hat\": m_hat,\n",
    "                           \"W_hat\": W_hat,\n",
    "                           \"v_hat\": v_hat,\n",
    "                           \"alpha_hat\": alpha_hat }\n",
    "    \n",
    "    return c_parameters"
   ]
  },
  {
   "cell_type": "code",
   "execution_count": 88,
   "metadata": {},
   "outputs": [
    {
     "data": {
      "text/plain": [
       "{'beta_hat': array([118., 117.,  18.]),\n",
       " 'm_hat': array([[ 0.36125824,  0.05200808],\n",
       "        [ 0.54195384,  0.29152114],\n",
       "        [ 1.04346484, -0.45977847]]),\n",
       " 'W_hat': array([[[ 6.58486968e-04, -5.98681229e-05],\n",
       "         [-5.98681229e-05,  3.60032169e-04]],\n",
       " \n",
       "        [[ 4.44904430e-04, -5.27137993e-05],\n",
       "         [-5.27137993e-05,  4.10786171e-04]],\n",
       " \n",
       "        [[ 5.31225243e-03,  1.90010897e-03],\n",
       "         [ 1.90010897e-03,  3.32231979e-03]]]),\n",
       " 'v_hat': array([120., 119.,  20.]),\n",
       " 'alpha_hat': array([118., 117.,  18.])}"
      ]
     },
     "execution_count": 88,
     "metadata": {},
     "output_type": "execute_result"
    }
   ],
   "source": [
    "s = sampling_of_s( data_x, parameters )\n",
    "create_parameter(data_x, s)"
   ]
  },
  {
   "cell_type": "markdown",
   "metadata": {},
   "source": [
    "### 事後分布からパラメーターを生成"
   ]
  },
  {
   "cell_type": "markdown",
   "metadata": {},
   "source": [
    "#### Lambdaのサンプル"
   ]
  },
  {
   "cell_type": "code",
   "execution_count": 89,
   "metadata": {},
   "outputs": [],
   "source": [
    "def sampling_parameters(c_parameters):\n",
    "    \n",
    "    beta_hat = c_parameters[\"beta_hat\"]\n",
    "    m_hat = c_parameters[\"m_hat\"]\n",
    "    v_hat = c_parameters[\"v_hat\"]\n",
    "    W_hat = c_parameters[\"W_hat\"]\n",
    "    alpha_hat = c_parameters[\"alpha_hat\"]\n",
    "    \n",
    "    NumOfClass = W_hat.shape[0]\n",
    "    sampling_lambd = np.zeros( W_hat.shape )\n",
    "    sampling_mu = np.zeros( m_hat.shape )\n",
    "    sampling_pi = np.zeros( NumOfClass )\n",
    "    \n",
    "    for k in range( NumOfClass ):\n",
    "        sampling_lambd[k, :, : ] = wishart.rvs(size = 1, df=v_hat[k], scale=W_hat[k, :, :])\n",
    "        sampling_mu[k,:] = np.random.multivariate_normal( mean=m_hat[k,:], cov=np.linalg.inv(beta_hat[k] * sampling_lambd[k, :, :] ), size=1 )\n",
    "        \n",
    "    sampling_pi = dirichlet.rvs( size=1, alpha=alpha_hat ).T\n",
    "\n",
    "    sample_params = { \"mean\": sampling_mu,\n",
    "                                \"Lambd\" : sampling_lambd,\n",
    "                            \"pi\": sampling_pi }\n",
    "    \n",
    "    return sample_params"
   ]
  },
  {
   "cell_type": "code",
   "execution_count": 90,
   "metadata": {},
   "outputs": [
    {
     "data": {
      "text/plain": [
       "{'mean': array([[-0.26360508,  0.42878855],\n",
       "        [ 0.7993428 ,  0.02078098],\n",
       "        [ 0.82572316, -0.99440187]]),\n",
       " 'Lambd': array([[[ 0.07518106, -0.00162463],\n",
       "         [-0.00162463,  0.0412649 ]],\n",
       " \n",
       "        [[ 0.04821581, -0.00563071],\n",
       "         [-0.00563071,  0.05126197]],\n",
       " \n",
       "        [[ 0.11491103,  0.02115629],\n",
       "         [ 0.02115629,  0.04805027]]]),\n",
       " 'pi': array([[0.49412725],\n",
       "        [0.44682483],\n",
       "        [0.05904792]])}"
      ]
     },
     "execution_count": 90,
     "metadata": {},
     "output_type": "execute_result"
    }
   ],
   "source": [
    "c_parameters = create_parameter(data_x, s)\n",
    "sampling_parameters(c_parameters)"
   ]
  },
  {
   "cell_type": "markdown",
   "metadata": {},
   "source": [
    "### モデル"
   ]
  },
  {
   "cell_type": "code",
   "execution_count": 91,
   "metadata": {},
   "outputs": [],
   "source": [
    "def model_gaussian_mixture( data_x, DimofData, NumOfClass, iterater = 400 , draw = True):\n",
    "    parameters = initialize_parameter( DimofData, NumOfClass )\n",
    "    s_mean = 0.0\n",
    "    for i in range(iterater):\n",
    "        s = sampling_of_s( data_x,  parameters )\n",
    "        c_parameters = create_parameter( data_x, s )\n",
    "        parameters = sampling_parameters( c_parameters )\n",
    "        \n",
    "        if draw == True:\n",
    "            if i % 50 == 0:\n",
    "                print(\"iterater is ( \", i , \"/ \", iterater, \")\",  int ( i / 50 ) * \"⬛︎\" )\n",
    "    print( \" -----------------------------------------------------------\")\n",
    "    print( \"　　　　　　THIS MODEL WAS CODED BY NONAKA SOSHI　　　　　　　　\" )\n",
    "    print( \"                       NONAPY 2021                         \" )\n",
    "    print( \" -----------------------------------------------------------\")\n",
    "    return parameters"
   ]
  },
  {
   "cell_type": "markdown",
   "metadata": {},
   "source": [
    "## 3.実行\n",
    "作ったモデルを実際に使用してみる。"
   ]
  },
  {
   "cell_type": "code",
   "execution_count": 96,
   "metadata": {},
   "outputs": [
    {
     "name": "stdout",
     "output_type": "stream",
     "text": [
      "iterater is (  0 /  400 ) \n",
      "iterater is (  50 /  400 ) ⬛︎\n",
      "iterater is (  100 /  400 ) ⬛︎⬛︎\n",
      "iterater is (  150 /  400 ) ⬛︎⬛︎⬛︎\n",
      "iterater is (  200 /  400 ) ⬛︎⬛︎⬛︎⬛︎\n",
      "iterater is (  250 /  400 ) ⬛︎⬛︎⬛︎⬛︎⬛︎\n",
      "iterater is (  300 /  400 ) ⬛︎⬛︎⬛︎⬛︎⬛︎⬛︎\n",
      "iterater is (  350 /  400 ) ⬛︎⬛︎⬛︎⬛︎⬛︎⬛︎⬛︎\n",
      " -----------------------------------------------------------\n",
      "　　　　　　THIS MODEL WAS CODED BY NONAKA SOSHI　　　　　　　　\n",
      "                       NONAPY 2021                         \n",
      " -----------------------------------------------------------\n"
     ]
    }
   ],
   "source": [
    "parameters = model_gaussian_mixture( data_x, 2, 3 ,draw=True)"
   ]
  },
  {
   "cell_type": "markdown",
   "metadata": {},
   "source": [
    "これで推定は完了。実際得られたパラメータ（のサンプル）は以下。"
   ]
  },
  {
   "cell_type": "code",
   "execution_count": 97,
   "metadata": {},
   "outputs": [
    {
     "name": "stdout",
     "output_type": "stream",
     "text": [
      "{'mean': array([[-3.64980567, -4.93206902],\n",
      "       [ 0.20264346,  3.91127587],\n",
      "       [ 4.88134156, -2.66565472]]), 'Lambd': array([[[ 0.14754737,  0.08182102],\n",
      "        [ 0.08182102,  0.42141188]],\n",
      "\n",
      "       [[ 0.17266559,  0.00530542],\n",
      "        [ 0.00530542,  0.08624284]],\n",
      "\n",
      "       [[ 0.20673888, -0.13237038],\n",
      "        [-0.13237038,  0.21821057]]]), 'pi': array([[0.21297931],\n",
      "       [0.48039215],\n",
      "       [0.30662854]])}\n"
     ]
    }
   ],
   "source": [
    "print(parameters)"
   ]
  },
  {
   "cell_type": "markdown",
   "metadata": {},
   "source": [
    "このパラメータを用いてガウス分布を描くとこんな感じ。"
   ]
  },
  {
   "cell_type": "code",
   "execution_count": 98,
   "metadata": {},
   "outputs": [],
   "source": [
    "x = np.arange(-10, 10, 0.5)\n",
    "y = np.arange(-10, 10, 0.5)\n",
    "X, Y = np.meshgrid(x, y)"
   ]
  },
  {
   "cell_type": "code",
   "execution_count": 99,
   "metadata": {},
   "outputs": [
    {
     "data": {
      "image/png": "[encoded data removed]",
      "text/plain": [
       "<Figure size 432x288 with 1 Axes>"
      ]
     },
     "metadata": {
      "needs_background": "light"
     },
     "output_type": "display_data"
    }
   ],
   "source": [
    "for k in range(3):\n",
    "    mu = parameters[\"mean\"][k]\n",
    "    sigma = np.linalg.inv( parameters[\"Lambd\"][k] )\n",
    "    f = lambda x, y: stats.multivariate_normal(mu, sigma).pdf([x, y])\n",
    "    Z = np.vectorize(f)(X, Y)\n",
    "    plt.contour(X, Y, Z)\n",
    "    k_id = np.where(data_y == k)\n",
    "    plt.scatter( data_x[k_id,0], data_x[k_id,1] )\n",
    "plt.show()"
   ]
  },
  {
   "cell_type": "code",
   "execution_count": null,
   "metadata": {},
   "outputs": [],
   "source": []
  },
  {
   "cell_type": "code",
   "execution_count": null,
   "metadata": {},
   "outputs": [],
   "source": []
  },
  {
   "cell_type": "code",
   "execution_count": null,
   "metadata": {},
   "outputs": [],
   "source": []
  }
 ],
 "metadata": {
  "kernelspec": {
   "display_name": "Python 3",
   "language": "python",
   "name": "python3"
  },
  "language_info": {
   "codemirror_mode": {
    "name": "ipython",
    "version": 3
   },
   "file_extension": ".py",
   "mimetype": "text/x-python",
   "name": "python",
   "nbconvert_exporter": "python",
   "pygments_lexer": "ipython3",
   "version": "3.6.2"
  }
 },
 "nbformat": 4,
 "nbformat_minor": 2
}
